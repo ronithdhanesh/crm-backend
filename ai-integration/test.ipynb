{
 "cells": [
  {
   "cell_type": "code",
   "execution_count": 1,
   "id": "2151ab14",
   "metadata": {},
   "outputs": [],
   "source": [
    "from langchain_google_genai import ChatGoogleGenerativeAI\n",
    "from langchain_core.prompts import ChatPromptTemplate"
   ]
  },
  {
   "cell_type": "code",
   "execution_count": 2,
   "id": "22b4fff0",
   "metadata": {},
   "outputs": [
    {
     "data": {
      "text/plain": [
       "2"
      ]
     },
     "execution_count": 2,
     "metadata": {},
     "output_type": "execute_result"
    }
   ],
   "source": [
    "1+1"
   ]
  },
  {
   "cell_type": "code",
   "execution_count": 15,
   "id": "18596824",
   "metadata": {},
   "outputs": [],
   "source": [
    "prompt = ChatPromptTemplate.from_messages(\n",
    "    [\n",
    "        (\"system\",\"\"\"You are a smart json builder, you will take natural language and input and convert it into json , return json only NO PREAMBLE\n",
    "         \"\"\"),\n",
    "        (\"human\",\"CONTENT: {question}\")\n",
    "    ]\n",
    ")"
   ]
  },
  {
   "cell_type": "code",
   "execution_count": 16,
   "id": "42a8e57d",
   "metadata": {},
   "outputs": [
    {
     "data": {
      "text/plain": [
       "True"
      ]
     },
     "execution_count": 16,
     "metadata": {},
     "output_type": "execute_result"
    }
   ],
   "source": [
    "from dotenv import load_dotenv\n",
    "import os\n",
    "load_dotenv()"
   ]
  },
  {
   "cell_type": "code",
   "execution_count": 17,
   "id": "3bffcd45",
   "metadata": {},
   "outputs": [],
   "source": [
    "llm = ChatGoogleGenerativeAI(\n",
    "    model=\"gemini-1.5-flash\",\n",
    "    api_key=os.getenv(\"GOOGLE_API_KEY\")\n",
    ")"
   ]
  },
  {
   "cell_type": "code",
   "execution_count": 18,
   "id": "19ab9a9f",
   "metadata": {},
   "outputs": [
    {
     "data": {
      "text/plain": [
       "ChatGoogleGenerativeAI(model='models/gemini-1.5-flash', google_api_key=SecretStr('**********'), client=<google.ai.generativelanguage_v1beta.services.generative_service.client.GenerativeServiceClient object at 0x000001F3C37711D0>, default_metadata=())"
      ]
     },
     "execution_count": 18,
     "metadata": {},
     "output_type": "execute_result"
    }
   ],
   "source": [
    "llm"
   ]
  },
  {
   "cell_type": "code",
   "execution_count": null,
   "id": "3359e5e4",
   "metadata": {},
   "outputs": [
    {
     "data": {
      "text/plain": [
       "AIMessage(content='The King of Bahrain is **Hamad bin Isa Al Khalifa**.', additional_kwargs={}, response_metadata={'prompt_feedback': {'block_reason': 0, 'safety_ratings': []}, 'finish_reason': 'STOP', 'safety_ratings': []}, id='run--76321eba-351e-4638-a92d-f9da397d42bd-0', usage_metadata={'input_tokens': 8, 'output_tokens': 14, 'total_tokens': 22, 'input_token_details': {'cache_read': 0}})"
      ]
     },
     "execution_count": 9,
     "metadata": {},
     "output_type": "execute_result"
    }
   ],
   "source": [
    "llm.invoke(\"question\": \"his name is ronith and hes from india\")"
   ]
  },
  {
   "cell_type": "code",
   "execution_count": 19,
   "id": "326d1887",
   "metadata": {},
   "outputs": [],
   "source": [
    "from langchain_core.output_parsers import JsonOutputParser"
   ]
  },
  {
   "cell_type": "code",
   "execution_count": 20,
   "id": "1f423e3e",
   "metadata": {},
   "outputs": [],
   "source": [
    "chain = prompt | llm | JsonOutputParser()"
   ]
  },
  {
   "cell_type": "code",
   "execution_count": 21,
   "id": "16ef1a4d",
   "metadata": {},
   "outputs": [
    {
     "data": {
      "text/plain": [
       "{'name': 'Ronith', 'country': 'India'}"
      ]
     },
     "execution_count": 21,
     "metadata": {},
     "output_type": "execute_result"
    }
   ],
   "source": [
    "chain.invoke({\"question\": \"his name is ronith and hes from india\"})"
   ]
  },
  {
   "cell_type": "code",
   "execution_count": 22,
   "id": "c1253d79",
   "metadata": {},
   "outputs": [],
   "source": [
    "template =  \"\"\"\n",
    "    You are a helpful assistant that converts natural language queries into a structured JSON object for a customer segmentation system.\n",
    "\n",
    "    Your task is to convert the following user query into a JSON object with a 'combinator' field and a 'rules' array. Each rule object must have 'field', 'operator', and 'value'.\n",
    "\n",
    "    Here are the available fields and their data types from the customer database:\n",
    "    - totalSpend (Number)\n",
    "    - visits (Number)\n",
    "    - lastPurchaseDate (Date)\n",
    "\n",
    "    Here are the valid operators for each data type:\n",
    "    - Numbers: >, <, >=, <=, ==, !=\n",
    "    - Dates: >, <, ==, != (to compare dates)\n",
    "\n",
    "    The valid combinators are '$and' and '$or'.\n",
    "\n",
    "    Example Input:\n",
    "    \"Find customers who have spent over 500 dollars and visited less than 3 times.\"\n",
    "\n",
    "    Example Output:\n",
    "    {{\n",
    "        \"combinator\": \"$and\",\n",
    "        \"rules\": [\n",
    "            {{\"field\": \"totalSpend\", \"operator\": \">\", \"value\": 500}},\n",
    "            {{\"field\": \"visits\", \"operator\": \"<\", \"value\": 3}}\n",
    "        ]\n",
    "    }}\n",
    "\n",
    "    Always use the exact field names, operators, and combinators provided.\n",
    "    For dates, use a relative format like 'X months ago' or a specific format 'YYYY-MM-DD'.\n",
    "    If no combinator is specified, use '$and' by default.\n",
    "    Do not add any additional text or explanations to the response.\n",
    "    \n",
    "    User Query: {user_query}\n",
    "    \"\"\""
   ]
  },
  {
   "cell_type": "code",
   "execution_count": 24,
   "id": "f5e11914",
   "metadata": {},
   "outputs": [
    {
     "data": {
      "text/plain": [
       "{'combinator': '$and',\n",
       " 'rules': [{'field': 'totalSpend', 'operator': '>', 'value': 500},\n",
       "  {'field': 'visits', 'operator': '<', 'value': 3}]}"
      ]
     },
     "execution_count": 24,
     "metadata": {},
     "output_type": "execute_result"
    }
   ],
   "source": [
    "new_prompt = ChatPromptTemplate.from_template(template)\n",
    "\n",
    "new_chain = new_prompt | llm | JsonOutputParser()\n",
    "\n",
    "new_chain.invoke({\"user_query\":\"Find customers who have spent over 500 dollars and visited less than 3 times.\"})"
   ]
  },
  {
   "cell_type": "code",
   "execution_count": null,
   "id": "9275c55e",
   "metadata": {},
   "outputs": [],
   "source": []
  }
 ],
 "metadata": {
  "kernelspec": {
   "display_name": "Python 3",
   "language": "python",
   "name": "python3"
  },
  "language_info": {
   "codemirror_mode": {
    "name": "ipython",
    "version": 3
   },
   "file_extension": ".py",
   "mimetype": "text/x-python",
   "name": "python",
   "nbconvert_exporter": "python",
   "pygments_lexer": "ipython3",
   "version": "3.13.6"
  }
 },
 "nbformat": 4,
 "nbformat_minor": 5
}
